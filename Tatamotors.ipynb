{
  "nbformat": 4,
  "nbformat_minor": 0,
  "metadata": {
    "colab": {
      "name": "Tatamotors.ipynb",
      "provenance": [],
      "collapsed_sections": []
    },
    "kernelspec": {
      "name": "python3",
      "display_name": "Python 3"
    }
  },
  "cells": [
    {
      "cell_type": "code",
      "metadata": {
        "id": "XOka-Jlz1SsS"
      },
      "source": [
        "import pandas as pd\r\n",
        "import numpy as np\r\n",
        "from sklearn.svm import SVR\r\n",
        "import matplotlib.pyplot as plt"
      ],
      "execution_count": 1,
      "outputs": []
    },
    {
      "cell_type": "code",
      "metadata": {
        "colab": {
          "base_uri": "https://localhost:8080/",
          "height": 195
        },
        "id": "IEDoSAv-1eqN",
        "outputId": "1e0bac2c-10d4-483e-955c-edfa74ad4597"
      },
      "source": [
        "df=pd.read_csv('/TATAMOTORS.NS.csv')\r\n",
        "df.tail()"
      ],
      "execution_count": 2,
      "outputs": [
        {
          "output_type": "execute_result",
          "data": {
            "text/html": [
              "<div>\n",
              "<style scoped>\n",
              "    .dataframe tbody tr th:only-of-type {\n",
              "        vertical-align: middle;\n",
              "    }\n",
              "\n",
              "    .dataframe tbody tr th {\n",
              "        vertical-align: top;\n",
              "    }\n",
              "\n",
              "    .dataframe thead th {\n",
              "        text-align: right;\n",
              "    }\n",
              "</style>\n",
              "<table border=\"1\" class=\"dataframe\">\n",
              "  <thead>\n",
              "    <tr style=\"text-align: right;\">\n",
              "      <th></th>\n",
              "      <th>Date</th>\n",
              "      <th>Open</th>\n",
              "      <th>High</th>\n",
              "      <th>Low</th>\n",
              "      <th>Close</th>\n",
              "      <th>Adj Close</th>\n",
              "      <th>Volume</th>\n",
              "    </tr>\n",
              "  </thead>\n",
              "  <tbody>\n",
              "    <tr>\n",
              "      <th>15</th>\n",
              "      <td>2021-01-22</td>\n",
              "      <td>295.950012</td>\n",
              "      <td>306.899994</td>\n",
              "      <td>278.350006</td>\n",
              "      <td>289.350006</td>\n",
              "      <td>289.350006</td>\n",
              "      <td>316008609</td>\n",
              "    </tr>\n",
              "    <tr>\n",
              "      <th>16</th>\n",
              "      <td>2021-01-25</td>\n",
              "      <td>296.899994</td>\n",
              "      <td>299.500000</td>\n",
              "      <td>277.350006</td>\n",
              "      <td>279.149994</td>\n",
              "      <td>279.149994</td>\n",
              "      <td>164346913</td>\n",
              "    </tr>\n",
              "    <tr>\n",
              "      <th>17</th>\n",
              "      <td>2021-01-27</td>\n",
              "      <td>274.899994</td>\n",
              "      <td>275.000000</td>\n",
              "      <td>265.700012</td>\n",
              "      <td>267.500000</td>\n",
              "      <td>267.500000</td>\n",
              "      <td>126586833</td>\n",
              "    </tr>\n",
              "    <tr>\n",
              "      <th>18</th>\n",
              "      <td>2021-01-28</td>\n",
              "      <td>260.049988</td>\n",
              "      <td>273.399994</td>\n",
              "      <td>259.049988</td>\n",
              "      <td>266.799988</td>\n",
              "      <td>266.799988</td>\n",
              "      <td>129156876</td>\n",
              "    </tr>\n",
              "    <tr>\n",
              "      <th>19</th>\n",
              "      <td>2021-01-29</td>\n",
              "      <td>273.000000</td>\n",
              "      <td>278.799988</td>\n",
              "      <td>260.600006</td>\n",
              "      <td>262.700012</td>\n",
              "      <td>262.700012</td>\n",
              "      <td>138442348</td>\n",
              "    </tr>\n",
              "  </tbody>\n",
              "</table>\n",
              "</div>"
            ],
            "text/plain": [
              "          Date        Open        High  ...       Close   Adj Close     Volume\n",
              "15  2021-01-22  295.950012  306.899994  ...  289.350006  289.350006  316008609\n",
              "16  2021-01-25  296.899994  299.500000  ...  279.149994  279.149994  164346913\n",
              "17  2021-01-27  274.899994  275.000000  ...  267.500000  267.500000  126586833\n",
              "18  2021-01-28  260.049988  273.399994  ...  266.799988  266.799988  129156876\n",
              "19  2021-01-29  273.000000  278.799988  ...  262.700012  262.700012  138442348\n",
              "\n",
              "[5 rows x 7 columns]"
            ]
          },
          "metadata": {
            "tags": []
          },
          "execution_count": 2
        }
      ]
    },
    {
      "cell_type": "code",
      "metadata": {
        "id": "LurqmrMG1gjj"
      },
      "source": [
        "dates=[]\r\n",
        "prices=[]\r\n"
      ],
      "execution_count": 3,
      "outputs": []
    },
    {
      "cell_type": "code",
      "metadata": {
        "colab": {
          "base_uri": "https://localhost:8080/"
        },
        "id": "_YNTrutb1jmc",
        "outputId": "bd8ee1b0-43a2-4ef4-eaf5-82de19a9df61"
      },
      "source": [
        "#get the no. of rows and columns in the data set\r\n",
        "df.shape"
      ],
      "execution_count": 4,
      "outputs": [
        {
          "output_type": "execute_result",
          "data": {
            "text/plain": [
              "(20, 7)"
            ]
          },
          "metadata": {
            "tags": []
          },
          "execution_count": 4
        }
      ]
    },
    {
      "cell_type": "code",
      "metadata": {
        "colab": {
          "base_uri": "https://localhost:8080/"
        },
        "id": "iyOEC2Bb1ljt",
        "outputId": "e4178184-3347-4ba1-9f1b-f8a7d21552c3"
      },
      "source": [
        "#print all of the data except for the last row\r\n",
        "df=df.head(len(df)-1)\r\n",
        "print(df.shape)"
      ],
      "execution_count": 5,
      "outputs": [
        {
          "output_type": "stream",
          "text": [
            "(19, 7)\n"
          ],
          "name": "stdout"
        }
      ]
    },
    {
      "cell_type": "code",
      "metadata": {
        "id": "JVZiLF_51l07"
      },
      "source": [
        "df_dates=df.loc[:,'Date'] # get all rows from date column \r\n",
        "df_low=df.loc[:,'Adj Close']#get all rows of Adj Close"
      ],
      "execution_count": 6,
      "outputs": []
    },
    {
      "cell_type": "code",
      "metadata": {
        "id": "OjB0xr_Q1l4r"
      },
      "source": [
        "for date in df_dates:\r\n",
        "   dates.append([int(date.split('-')[2])])\r\n",
        "\r\n",
        "#create the dependent data set 'y' as prices\r\n",
        "for close_price in df_low:\r\n",
        "   prices.append(float(close_price))"
      ],
      "execution_count": 7,
      "outputs": []
    },
    {
      "cell_type": "code",
      "metadata": {
        "colab": {
          "base_uri": "https://localhost:8080/"
        },
        "id": "7SDEaTeb1rrc",
        "outputId": "eb3a1d26-ccc2-4096-8742-03fd3e4c6de6"
      },
      "source": [
        "print(dates)"
      ],
      "execution_count": 8,
      "outputs": [
        {
          "output_type": "stream",
          "text": [
            "[[1], [4], [5], [6], [7], [8], [11], [12], [13], [14], [15], [18], [19], [20], [21], [22], [25], [27], [28]]\n"
          ],
          "name": "stdout"
        }
      ]
    },
    {
      "cell_type": "code",
      "metadata": {
        "id": "qOog7p5E1r0c"
      },
      "source": [
        "#function to make prediction using 3 different kernals\r\n",
        "def predict_prices(dates, prices, x): #x is testing date for test model  \r\n",
        "    svr_lin=SVR(kernel='linear', C=1e3)\r\n",
        "    svr_poly=SVR(kernel='poly', C=1e3,degree=2)\r\n",
        "    svr_rbf=SVR(kernel='rbf', C=1e3, gamma=0.1)\r\n",
        "\r\n",
        "    #TRAIN the models on the dates and prices\r\n",
        "    svr_lin.fit(dates,prices)\r\n",
        "    svr_poly.fit(dates,prices)\r\n",
        "    svr_rbf.fit(dates,prices)\r\n",
        "   \r\n",
        "    #plot the graph \r\n",
        "    plt.scatter(dates,prices,color='blue',label='Data',s=60)\r\n",
        "    plt.scatter(dates,svr_rbf.predict(dates),color='black',label='RBF model')\r\n",
        "    plt.scatter(dates,svr_lin.predict(dates),color='green',label='Linear Model')\r\n",
        "    plt.scatter(dates,svr_poly.predict(dates),color='yellow',label='Polynomial model')\r\n",
        "    plt.xlabel('Date')\r\n",
        "    plt.ylabel('price')\r\n",
        "    plt.title('Support vactor Regression (sun pharma Data)')\r\n",
        "    plt.legend()\r\n",
        "    plt.show()\r\n",
        "    return svr_rbf.predict(x)[0],svr_lin.predict(x)[0],svr_poly.predict(x)[0]\r\n"
      ],
      "execution_count": 9,
      "outputs": []
    },
    {
      "cell_type": "code",
      "metadata": {
        "colab": {
          "base_uri": "https://localhost:8080/",
          "height": 312
        },
        "id": "CLREXyB31xC9",
        "outputId": "33241b79-d2b4-4492-97e0-672fdd02c86d"
      },
      "source": [
        "predicted_price = predict_prices(dates,prices,[[29]])\r\n",
        "print(predicted_price)"
      ],
      "execution_count": 10,
      "outputs": [
        {
          "output_type": "display_data",
          "data": {
            "image/png": "[encoded data removed]",
            "text/plain": [
              "<Figure size 432x288 with 1 Axes>"
            ]
          },
          "metadata": {
            "tags": [],
            "needs_background": "light"
          }
        },
        {
          "output_type": "stream",
          "text": [
            "(268.48171195918354, 303.4499880000596, 336.7949920073927)\n"
          ],
          "name": "stdout"
        }
      ]
    }
  ]
}