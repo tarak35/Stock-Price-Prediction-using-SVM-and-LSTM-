{
  "nbformat": 4,
  "nbformat_minor": 0,
  "metadata": {
    "colab": {
      "name": "LSTM-TataMotors.ipynb",
      "provenance": [],
      "collapsed_sections": []
    },
    "kernelspec": {
      "name": "python3",
      "display_name": "Python 3"
    }
  },
  "cells": [
    {
      "cell_type": "code",
      "metadata": {
        "id": "U-ysiTEiZwUy"
      },
      "source": [
        "import numpy as np\r\n",
        "import pandas as pd\r\n",
        "import matplotlib.pyplot as plt\r\n",
        "from sklearn.preprocessing import MinMaxScaler\r\n",
        "from keras.models import Sequential, load_model\r\n",
        "from keras.layers import LSTM, Dense, Dropout\r\n",
        "import os\r\n",
        "import sklearn.metrics as metrices\r\n",
        "import math"
      ],
      "execution_count": 36,
      "outputs": []
    },
    {
      "cell_type": "code",
      "metadata": {
        "colab": {
          "base_uri": "https://localhost:8080/",
          "height": 195
        },
        "id": "GXo8jomfZ1RY",
        "outputId": "537609d1-4fa2-43a2-d9a8-54b3fd5af70a"
      },
      "source": [
        "df = pd.read_csv('/content/lstm-TATAMOTORS.NS.csv')\r\n",
        "df.head()"
      ],
      "execution_count": 37,
      "outputs": [
        {
          "output_type": "execute_result",
          "data": {
            "text/html": [
              "<div>\n",
              "<style scoped>\n",
              "    .dataframe tbody tr th:only-of-type {\n",
              "        vertical-align: middle;\n",
              "    }\n",
              "\n",
              "    .dataframe tbody tr th {\n",
              "        vertical-align: top;\n",
              "    }\n",
              "\n",
              "    .dataframe thead th {\n",
              "        text-align: right;\n",
              "    }\n",
              "</style>\n",
              "<table border=\"1\" class=\"dataframe\">\n",
              "  <thead>\n",
              "    <tr style=\"text-align: right;\">\n",
              "      <th></th>\n",
              "      <th>Date</th>\n",
              "      <th>Open</th>\n",
              "      <th>High</th>\n",
              "      <th>Low</th>\n",
              "      <th>Close</th>\n",
              "      <th>Volume</th>\n",
              "    </tr>\n",
              "  </thead>\n",
              "  <tbody>\n",
              "    <tr>\n",
              "      <th>0</th>\n",
              "      <td>1/2/2017</td>\n",
              "      <td>472.000000</td>\n",
              "      <td>488.700012</td>\n",
              "      <td>469.049988</td>\n",
              "      <td>487.049988</td>\n",
              "      <td>4024156.0</td>\n",
              "    </tr>\n",
              "    <tr>\n",
              "      <th>1</th>\n",
              "      <td>1/3/2017</td>\n",
              "      <td>491.000000</td>\n",
              "      <td>492.700012</td>\n",
              "      <td>479.899994</td>\n",
              "      <td>481.100006</td>\n",
              "      <td>5814518.0</td>\n",
              "    </tr>\n",
              "    <tr>\n",
              "      <th>2</th>\n",
              "      <td>1/4/2017</td>\n",
              "      <td>484.649994</td>\n",
              "      <td>493.700012</td>\n",
              "      <td>484.100006</td>\n",
              "      <td>486.649994</td>\n",
              "      <td>4769872.0</td>\n",
              "    </tr>\n",
              "    <tr>\n",
              "      <th>3</th>\n",
              "      <td>1/5/2017</td>\n",
              "      <td>496.000000</td>\n",
              "      <td>503.399994</td>\n",
              "      <td>495.549988</td>\n",
              "      <td>502.149994</td>\n",
              "      <td>7961242.0</td>\n",
              "    </tr>\n",
              "    <tr>\n",
              "      <th>4</th>\n",
              "      <td>1/6/2017</td>\n",
              "      <td>502.950012</td>\n",
              "      <td>507.950012</td>\n",
              "      <td>496.250000</td>\n",
              "      <td>497.750000</td>\n",
              "      <td>4907475.0</td>\n",
              "    </tr>\n",
              "  </tbody>\n",
              "</table>\n",
              "</div>"
            ],
            "text/plain": [
              "       Date        Open        High         Low       Close     Volume\n",
              "0  1/2/2017  472.000000  488.700012  469.049988  487.049988  4024156.0\n",
              "1  1/3/2017  491.000000  492.700012  479.899994  481.100006  5814518.0\n",
              "2  1/4/2017  484.649994  493.700012  484.100006  486.649994  4769872.0\n",
              "3  1/5/2017  496.000000  503.399994  495.549988  502.149994  7961242.0\n",
              "4  1/6/2017  502.950012  507.950012  496.250000  497.750000  4907475.0"
            ]
          },
          "metadata": {
            "tags": []
          },
          "execution_count": 37
        }
      ]
    },
    {
      "cell_type": "code",
      "metadata": {
        "colab": {
          "base_uri": "https://localhost:8080/"
        },
        "id": "qvKanxR15G0C",
        "outputId": "a68ffa5a-2a4e-4650-de76-79190ef26c70"
      },
      "source": [
        "df.mean()"
      ],
      "execution_count": 38,
      "outputs": [
        {
          "output_type": "execute_result",
          "data": {
            "text/plain": [
              "Open      2.577652e+02\n",
              "High      2.614799e+02\n",
              "Low       2.533066e+02\n",
              "Close     2.569866e+02\n",
              "Volume    3.332855e+07\n",
              "dtype: float64"
            ]
          },
          "metadata": {
            "tags": []
          },
          "execution_count": 38
        }
      ]
    },
    {
      "cell_type": "code",
      "metadata": {
        "id": "bqT-O7m9kHhk"
      },
      "source": [
        "#  df = df.dropna()\n",
        "df=df.fillna(df.mean())"
      ],
      "execution_count": 39,
      "outputs": []
    },
    {
      "cell_type": "code",
      "metadata": {
        "colab": {
          "base_uri": "https://localhost:8080/"
        },
        "id": "6xyWmo2oZ1PH",
        "outputId": "cd8c3710-9b50-4f3a-c990-6dbc9a44dd19"
      },
      "source": [
        "df = df['Close'].values\r\n",
        "df = df.reshape(-1, 1)\r\n",
        "print(df.shape)\r\n",
        "df[:5]"
      ],
      "execution_count": 40,
      "outputs": [
        {
          "output_type": "stream",
          "text": [
            "(1028, 1)\n"
          ],
          "name": "stdout"
        },
        {
          "output_type": "execute_result",
          "data": {
            "text/plain": [
              "array([[487.049988],\n",
              "       [481.100006],\n",
              "       [486.649994],\n",
              "       [502.149994],\n",
              "       [497.75    ]])"
            ]
          },
          "metadata": {
            "tags": []
          },
          "execution_count": 40
        }
      ]
    },
    {
      "cell_type": "code",
      "metadata": {
        "colab": {
          "base_uri": "https://localhost:8080/"
        },
        "id": "JU37tKxPZ1Ms",
        "outputId": "aee6cef5-0a23-4cbe-9ec7-a26f5cf66088"
      },
      "source": [
        "dataset_train = np.array(df[:int(df.shape[0]*0.8)])\r\n",
        "dataset_test = np.array(df[int(df.shape[0]*0.8)-50:])\r\n",
        "print(dataset_train.shape)\r\n",
        "print(dataset_test.shape)"
      ],
      "execution_count": 41,
      "outputs": [
        {
          "output_type": "stream",
          "text": [
            "(822, 1)\n",
            "(256, 1)\n"
          ],
          "name": "stdout"
        }
      ]
    },
    {
      "cell_type": "code",
      "metadata": {
        "colab": {
          "base_uri": "https://localhost:8080/"
        },
        "id": "e2jpQzUpZ1KW",
        "outputId": "d630acc9-a6e6-40fe-ccc9-622ae9045e1d"
      },
      "source": [
        "scaler = MinMaxScaler(feature_range=(0,1))\r\n",
        "dataset_train = scaler.fit_transform(dataset_train)\r\n",
        "dataset_train[:5]"
      ],
      "execution_count": 42,
      "outputs": [
        {
          "output_type": "execute_result",
          "data": {
            "text/plain": [
              "array([[0.87210498],\n",
              "       [0.85980146],\n",
              "       [0.87127786],\n",
              "       [0.90332914],\n",
              "       [0.89423072]])"
            ]
          },
          "metadata": {
            "tags": []
          },
          "execution_count": 42
        }
      ]
    },
    {
      "cell_type": "code",
      "metadata": {
        "colab": {
          "base_uri": "https://localhost:8080/"
        },
        "id": "w7vfNu_lZ1Hq",
        "outputId": "a25e2077-6968-4779-e54a-a094c8ec47ac"
      },
      "source": [
        "dataset_test = scaler.transform(dataset_test)\r\n",
        "dataset_test[:5]"
      ],
      "execution_count": 43,
      "outputs": [
        {
          "output_type": "execute_result",
          "data": {
            "text/plain": [
              "array([[0.19179073],\n",
              "       [0.19272124],\n",
              "       [0.17648881],\n",
              "       [0.17493794],\n",
              "       [0.1638751 ]])"
            ]
          },
          "metadata": {
            "tags": []
          },
          "execution_count": 43
        }
      ]
    },
    {
      "cell_type": "code",
      "metadata": {
        "id": "-z98K6CKZ1Fr"
      },
      "source": [
        "def create_dataset(df):\r\n",
        "    x = []\r\n",
        "    y = []\r\n",
        "    for i in range(50, df.shape[0]):\r\n",
        "        x.append(df[i-50:i, 0])\r\n",
        "        y.append(df[i, 0])\r\n",
        "    x = np.array(x)\r\n",
        "    y = np.array(y)\r\n",
        "    return x,y "
      ],
      "execution_count": 44,
      "outputs": []
    },
    {
      "cell_type": "code",
      "metadata": {
        "colab": {
          "base_uri": "https://localhost:8080/"
        },
        "id": "xRT42qcJaAP3",
        "outputId": "76d95b98-e22d-436d-f148-a32069303898"
      },
      "source": [
        "x_train, y_train = create_dataset(dataset_train)\r\n",
        "x_train[:1]"
      ],
      "execution_count": 45,
      "outputs": [
        {
          "output_type": "execute_result",
          "data": {
            "text/plain": [
              "array([[0.87210498, 0.85980146, 0.87127786, 0.90332914, 0.89423072,\n",
              "        0.89919349, 0.93248548, 0.93868895, 0.93662113, 0.92959047,\n",
              "        0.95347395, 0.9478908 , 0.94530602, 0.96391644, 0.94685688,\n",
              "        0.96650122, 0.98480142, 1.        , 0.98562859, 0.96567404,\n",
              "        0.94758057, 0.98624892, 0.9640198 , 0.94561611, 0.95233654,\n",
              "        0.91294451, 0.92586842, 0.92545483, 0.91863103, 0.90984277,\n",
              "        0.86176585, 0.7674731 , 0.7872208 , 0.80159221, 0.80676177,\n",
              "        0.81337877, 0.81627371, 0.82102975, 0.81162111, 0.80944992,\n",
              "        0.79435482, 0.81968567, 0.81606698, 0.83850283, 0.8317824 ,\n",
              "        0.82196023, 0.83188583, 0.83498756, 0.83633164, 0.84398261]])"
            ]
          },
          "metadata": {
            "tags": []
          },
          "execution_count": 45
        }
      ]
    },
    {
      "cell_type": "code",
      "metadata": {
        "colab": {
          "base_uri": "https://localhost:8080/"
        },
        "id": "3e__7Va3Z1DJ",
        "outputId": "0e1bbe67-ab63-4db8-cc7e-cb4d17cd2267"
      },
      "source": [
        "x_test, y_test = create_dataset(dataset_test)\r\n",
        "x_test[:1]"
      ],
      "execution_count": 46,
      "outputs": [
        {
          "output_type": "execute_result",
          "data": {
            "text/plain": [
              "array([[0.19179073, 0.19272124, 0.17648881, 0.17493794, 0.1638751 ,\n",
              "        0.16532257, 0.13161702, 0.12427625, 0.13451199, 0.1259305 ,\n",
              "        0.12499999, 0.10111661, 0.0835401 , 0.0694789 , 0.04693961,\n",
              "        0.0505583 , 0.03649709, 0.02615797, 0.0210918 , 0.01581885,\n",
              "        0.02481389, 0.00186103, 0.00672043, 0.01023573, 0.01137304,\n",
              "        0.01116624, 0.0058933 , 0.01188999, 0.00547972, 0.        ,\n",
              "        0.00403225, 0.00475599, 0.01923076, 0.01850702, 0.01571546,\n",
              "        0.01933416, 0.02388336, 0.03132753, 0.01933416, 0.02191894,\n",
              "        0.02140198, 0.01840363, 0.02057485, 0.02409014, 0.02657154,\n",
              "        0.05779569, 0.03846153, 0.03225806, 0.03701405, 0.03556658]])"
            ]
          },
          "metadata": {
            "tags": []
          },
          "execution_count": 46
        }
      ]
    },
    {
      "cell_type": "code",
      "metadata": {
        "id": "Q2dxKNRmZ1Ae"
      },
      "source": [
        "# Reshape features for LSTM Layer\r\n",
        "x_train = np.reshape(x_train, (x_train.shape[0], x_train.shape[1], 1))\r\n",
        "x_test = np.reshape(x_test, (x_test.shape[0], x_test.shape[1], 1))"
      ],
      "execution_count": 47,
      "outputs": []
    },
    {
      "cell_type": "code",
      "metadata": {
        "id": "IzdHV7dh_KGw"
      },
      "source": [
        "LSTM??"
      ],
      "execution_count": 48,
      "outputs": []
    },
    {
      "cell_type": "code",
      "metadata": {
        "id": "Yxnr8fuuZ0tP"
      },
      "source": [
        "model = Sequential()\r\n",
        "model.add(LSTM(units=96, return_sequences=True, input_shape=(x_train.shape[1], 1)))\r\n",
        "model.add(Dropout(0.2))\r\n",
        "model.add(LSTM(units=96, return_sequences=True))\r\n",
        "model.add(Dropout(0.2))\r\n",
        "model.add(LSTM(units=96, return_sequences=True))\r\n",
        "model.add(Dropout(0.2))\r\n",
        "model.add(LSTM(units=96))\r\n",
        "model.add(Dropout(0.2))\r\n",
        "model.add(Dense(units=1))"
      ],
      "execution_count": 49,
      "outputs": []
    },
    {
      "cell_type": "code",
      "metadata": {
        "id": "VzE9CoDpkGqS"
      },
      "source": [
        ""
      ],
      "execution_count": 49,
      "outputs": []
    },
    {
      "cell_type": "code",
      "metadata": {
        "id": "cQ4bO7jEaa3w"
      },
      "source": [
        "from keras import optimizers\n",
        "optimizer=optimizers.Adam(clipvalue=0.5)\n",
        "model.compile(loss='mean_squared_error', optimizer=optimizer)\n"
      ],
      "execution_count": 51,
      "outputs": []
    },
    {
      "cell_type": "code",
      "metadata": {
        "colab": {
          "base_uri": "https://localhost:8080/"
        },
        "id": "oQC8Wc4Xaa1Q",
        "outputId": "c6f773fa-47f9-46f7-a088-115ec5c7ab3c"
      },
      "source": [
        "\r\n",
        "model.fit(x_train, y_train, epochs=70, batch_size=32)\r\n",
        "model.save('stock_prediction.h5')"
      ],
      "execution_count": 60,
      "outputs": [
        {
          "output_type": "stream",
          "text": [
            "Epoch 1/70\n",
            "25/25 [==============================] - 7s 152ms/step - loss: 0.0015 - accuracy: 0.0013\n",
            "Epoch 2/70\n",
            "25/25 [==============================] - 4s 163ms/step - loss: 0.0015 - accuracy: 0.0013\n",
            "Epoch 3/70\n",
            "25/25 [==============================] - 4s 160ms/step - loss: 0.0015 - accuracy: 0.0013\n",
            "Epoch 4/70\n",
            "25/25 [==============================] - 4s 160ms/step - loss: 0.0013 - accuracy: 0.0013\n",
            "Epoch 5/70\n",
            "25/25 [==============================] - 4s 161ms/step - loss: 0.0014 - accuracy: 0.0013\n",
            "Epoch 6/70\n",
            "25/25 [==============================] - 4s 161ms/step - loss: 0.0014 - accuracy: 0.0013\n",
            "Epoch 7/70\n",
            "25/25 [==============================] - 4s 162ms/step - loss: 0.0013 - accuracy: 0.0013\n",
            "Epoch 8/70\n",
            "25/25 [==============================] - 4s 161ms/step - loss: 0.0013 - accuracy: 0.0013\n",
            "Epoch 9/70\n",
            "25/25 [==============================] - 4s 165ms/step - loss: 0.0014 - accuracy: 0.0013\n",
            "Epoch 10/70\n",
            "25/25 [==============================] - 4s 162ms/step - loss: 0.0014 - accuracy: 0.0013\n",
            "Epoch 11/70\n",
            "25/25 [==============================] - 4s 162ms/step - loss: 0.0017 - accuracy: 0.0013\n",
            "Epoch 12/70\n",
            "25/25 [==============================] - 4s 165ms/step - loss: 0.0016 - accuracy: 0.0013\n",
            "Epoch 13/70\n",
            "25/25 [==============================] - 4s 163ms/step - loss: 0.0013 - accuracy: 0.0013\n",
            "Epoch 14/70\n",
            "25/25 [==============================] - 4s 162ms/step - loss: 0.0014 - accuracy: 0.0013\n",
            "Epoch 15/70\n",
            "25/25 [==============================] - 4s 164ms/step - loss: 0.0018 - accuracy: 0.0013\n",
            "Epoch 16/70\n",
            "25/25 [==============================] - 4s 163ms/step - loss: 0.0014 - accuracy: 0.0013\n",
            "Epoch 17/70\n",
            "25/25 [==============================] - 4s 165ms/step - loss: 0.0013 - accuracy: 0.0013\n",
            "Epoch 18/70\n",
            "25/25 [==============================] - 4s 164ms/step - loss: 0.0018 - accuracy: 0.0013\n",
            "Epoch 19/70\n",
            "25/25 [==============================] - 4s 163ms/step - loss: 0.0015 - accuracy: 0.0013\n",
            "Epoch 20/70\n",
            "25/25 [==============================] - 4s 167ms/step - loss: 0.0013 - accuracy: 0.0013\n",
            "Epoch 21/70\n",
            "25/25 [==============================] - 4s 162ms/step - loss: 0.0015 - accuracy: 0.0013\n",
            "Epoch 22/70\n",
            "25/25 [==============================] - 4s 163ms/step - loss: 0.0012 - accuracy: 0.0013\n",
            "Epoch 23/70\n",
            "25/25 [==============================] - 4s 162ms/step - loss: 0.0013 - accuracy: 0.0013\n",
            "Epoch 24/70\n",
            "25/25 [==============================] - 4s 162ms/step - loss: 0.0011 - accuracy: 0.0013\n",
            "Epoch 25/70\n",
            "25/25 [==============================] - 4s 163ms/step - loss: 0.0013 - accuracy: 0.0013\n",
            "Epoch 26/70\n",
            "25/25 [==============================] - 4s 164ms/step - loss: 0.0014 - accuracy: 0.0013\n",
            "Epoch 27/70\n",
            "25/25 [==============================] - 4s 164ms/step - loss: 0.0013 - accuracy: 0.0013\n",
            "Epoch 28/70\n",
            "25/25 [==============================] - 4s 166ms/step - loss: 0.0011 - accuracy: 0.0013\n",
            "Epoch 29/70\n",
            "25/25 [==============================] - 4s 163ms/step - loss: 0.0012 - accuracy: 0.0013\n",
            "Epoch 30/70\n",
            "25/25 [==============================] - 4s 165ms/step - loss: 0.0012 - accuracy: 0.0013\n",
            "Epoch 31/70\n",
            "25/25 [==============================] - 4s 164ms/step - loss: 0.0013 - accuracy: 0.0013\n",
            "Epoch 32/70\n",
            "25/25 [==============================] - 4s 163ms/step - loss: 0.0013 - accuracy: 0.0013\n",
            "Epoch 33/70\n",
            "25/25 [==============================] - 4s 162ms/step - loss: 0.0014 - accuracy: 0.0013\n",
            "Epoch 34/70\n",
            "25/25 [==============================] - 4s 163ms/step - loss: 0.0013 - accuracy: 0.0013\n",
            "Epoch 35/70\n",
            "25/25 [==============================] - 4s 164ms/step - loss: 0.0010 - accuracy: 0.0013\n",
            "Epoch 36/70\n",
            "25/25 [==============================] - 4s 161ms/step - loss: 0.0010 - accuracy: 0.0013\n",
            "Epoch 37/70\n",
            "25/25 [==============================] - 4s 163ms/step - loss: 0.0012 - accuracy: 0.0013\n",
            "Epoch 38/70\n",
            "25/25 [==============================] - 4s 165ms/step - loss: 0.0011 - accuracy: 0.0013\n",
            "Epoch 39/70\n",
            "25/25 [==============================] - 4s 164ms/step - loss: 0.0011 - accuracy: 0.0013\n",
            "Epoch 40/70\n",
            "25/25 [==============================] - 4s 164ms/step - loss: 0.0012 - accuracy: 0.0013\n",
            "Epoch 41/70\n",
            "25/25 [==============================] - 4s 163ms/step - loss: 0.0012 - accuracy: 0.0013\n",
            "Epoch 42/70\n",
            "25/25 [==============================] - 4s 166ms/step - loss: 0.0013 - accuracy: 0.0013\n",
            "Epoch 43/70\n",
            "25/25 [==============================] - 4s 165ms/step - loss: 9.8202e-04 - accuracy: 0.0013\n",
            "Epoch 44/70\n",
            "25/25 [==============================] - 4s 165ms/step - loss: 0.0012 - accuracy: 0.0013\n",
            "Epoch 45/70\n",
            "25/25 [==============================] - 4s 168ms/step - loss: 0.0011 - accuracy: 0.0013\n",
            "Epoch 46/70\n",
            "25/25 [==============================] - 4s 164ms/step - loss: 0.0011 - accuracy: 0.0013\n",
            "Epoch 47/70\n",
            "25/25 [==============================] - 4s 163ms/step - loss: 0.0010 - accuracy: 0.0013\n",
            "Epoch 48/70\n",
            "25/25 [==============================] - 4s 164ms/step - loss: 0.0010 - accuracy: 0.0013\n",
            "Epoch 49/70\n",
            "25/25 [==============================] - 4s 164ms/step - loss: 0.0013 - accuracy: 0.0013\n",
            "Epoch 50/70\n",
            "25/25 [==============================] - 4s 164ms/step - loss: 0.0012 - accuracy: 0.0013\n",
            "Epoch 51/70\n",
            "25/25 [==============================] - 4s 163ms/step - loss: 0.0011 - accuracy: 0.0013\n",
            "Epoch 52/70\n",
            "25/25 [==============================] - 4s 167ms/step - loss: 0.0012 - accuracy: 0.0013\n",
            "Epoch 53/70\n",
            "25/25 [==============================] - 4s 166ms/step - loss: 9.6668e-04 - accuracy: 0.0013\n",
            "Epoch 54/70\n",
            "25/25 [==============================] - 4s 164ms/step - loss: 0.0012 - accuracy: 0.0013\n",
            "Epoch 55/70\n",
            "25/25 [==============================] - 4s 165ms/step - loss: 0.0012 - accuracy: 0.0013\n",
            "Epoch 56/70\n",
            "25/25 [==============================] - 4s 169ms/step - loss: 0.0011 - accuracy: 0.0013\n",
            "Epoch 57/70\n",
            "25/25 [==============================] - 4s 168ms/step - loss: 0.0011 - accuracy: 0.0013\n",
            "Epoch 58/70\n",
            "25/25 [==============================] - 4s 163ms/step - loss: 0.0012 - accuracy: 0.0013\n",
            "Epoch 59/70\n",
            "25/25 [==============================] - 4s 165ms/step - loss: 0.0011 - accuracy: 0.0013\n",
            "Epoch 60/70\n",
            "25/25 [==============================] - 4s 165ms/step - loss: 0.0013 - accuracy: 0.0013\n",
            "Epoch 61/70\n",
            "25/25 [==============================] - 4s 164ms/step - loss: 0.0016 - accuracy: 0.0013\n",
            "Epoch 62/70\n",
            "25/25 [==============================] - 4s 166ms/step - loss: 0.0011 - accuracy: 0.0013\n",
            "Epoch 63/70\n",
            "25/25 [==============================] - 4s 166ms/step - loss: 8.5839e-04 - accuracy: 0.0013\n",
            "Epoch 64/70\n",
            "25/25 [==============================] - 4s 165ms/step - loss: 0.0011 - accuracy: 0.0013\n",
            "Epoch 65/70\n",
            "25/25 [==============================] - 4s 168ms/step - loss: 0.0010 - accuracy: 0.0013\n",
            "Epoch 66/70\n",
            "25/25 [==============================] - 4s 166ms/step - loss: 9.4038e-04 - accuracy: 0.0013\n",
            "Epoch 67/70\n",
            "25/25 [==============================] - 4s 166ms/step - loss: 0.0011 - accuracy: 0.0013\n",
            "Epoch 68/70\n",
            "25/25 [==============================] - 4s 167ms/step - loss: 0.0011 - accuracy: 0.0013\n",
            "Epoch 69/70\n",
            "25/25 [==============================] - 4s 165ms/step - loss: 8.6747e-04 - accuracy: 0.0013\n",
            "Epoch 70/70\n",
            "25/25 [==============================] - 4s 167ms/step - loss: 0.0010 - accuracy: 0.0013\n"
          ],
          "name": "stdout"
        }
      ]
    },
    {
      "cell_type": "code",
      "metadata": {
        "id": "ovZG5juQaatv"
      },
      "source": [
        "model = load_model('stock_prediction.h5')"
      ],
      "execution_count": 61,
      "outputs": []
    },
    {
      "cell_type": "code",
      "metadata": {
        "colab": {
          "base_uri": "https://localhost:8080/",
          "height": 282
        },
        "id": "mAx7zZFcaarX",
        "outputId": "2a3b4755-de1b-420f-834f-1f56cef900d6"
      },
      "source": [
        "predictions = model.predict(x_test)\r\n",
        "predictions = scaler.inverse_transform(predictions)\r\n",
        "\r\n",
        "fig, ax = plt.subplots(figsize=(8,4))\r\n",
        "plt.plot(df, color='red',  label=\"True Price\")\r\n",
        "ax.plot(range(len(y_train)+50,len(y_train)+50+len(predictions)),predictions, color='blue', label='Predicted Testing Price')\r\n",
        "plt.legend()"
      ],
      "execution_count": 62,
      "outputs": [
        {
          "output_type": "execute_result",
          "data": {
            "text/plain": [
              "<matplotlib.legend.Legend at 0x7ff7830262d0>"
            ]
          },
          "metadata": {
            "tags": []
          },
          "execution_count": 62
        },
        {
          "output_type": "display_data",
          "data": {
            "image/png": "[encoded data removed]",
            "text/plain": [
              "<Figure size 576x288 with 1 Axes>"
            ]
          },
          "metadata": {
            "tags": [],
            "needs_background": "light"
          }
        }
      ]
    },
    {
      "cell_type": "code",
      "metadata": {
        "colab": {
          "base_uri": "https://localhost:8080/",
          "height": 282
        },
        "id": "hHhj0cI5at3g",
        "outputId": "042c768a-2f16-42eb-e31a-4847b68d16b4"
      },
      "source": [
        "y_test_scaled = scaler.inverse_transform(y_test.reshape(-1, 1))\r\n",
        "\r\n",
        "fig, ax = plt.subplots(figsize=(8,4))\r\n",
        "ax.plot(y_test_scaled, color='red', label='True Testing Price')\r\n",
        "plt.plot(predictions, color='blue', label='Predicted Testing Price')\r\n",
        "plt.legend()\r\n"
      ],
      "execution_count": 63,
      "outputs": [
        {
          "output_type": "execute_result",
          "data": {
            "text/plain": [
              "<matplotlib.legend.Legend at 0x7ff78a005990>"
            ]
          },
          "metadata": {
            "tags": []
          },
          "execution_count": 63
        },
        {
          "output_type": "display_data",
          "data": {
            "image/png": "[encoded data removed]",
            "text/plain": [
              "<Figure size 576x288 with 1 Axes>"
            ]
          },
          "metadata": {
            "tags": [],
            "needs_background": "light"
          }
        }
      ]
    },
    {
      "cell_type": "code",
      "metadata": {
        "colab": {
          "base_uri": "https://localhost:8080/"
        },
        "id": "F2ehhOoeVka1",
        "outputId": "afb49335-60e7-4968-a20e-2a451da91523"
      },
      "source": [
        "math.sqrt(metrices.mean_squared_error(y_test_scaled,predictions))"
      ],
      "execution_count": 64,
      "outputs": [
        {
          "output_type": "execute_result",
          "data": {
            "text/plain": [
              "13.226016184835188"
            ]
          },
          "metadata": {
            "tags": []
          },
          "execution_count": 64
        }
      ]
    }
  ]
}